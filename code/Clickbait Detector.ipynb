{
 "cells": [
  {
   "cell_type": "markdown",
   "metadata": {},
   "source": [
    "# Clickbait Detector\n",
    "_You Won't Believe What Happened Next_"
   ]
  },
  {
   "cell_type": "code",
   "execution_count": 1,
   "metadata": {},
   "outputs": [],
   "source": [
    "import pandas as pd\n",
    "import numpy as np\n",
    "import json"
   ]
  },
  {
   "cell_type": "code",
   "execution_count": 2,
   "metadata": {},
   "outputs": [],
   "source": [
    "pd.set_option('display.max_colwidth', 1000)"
   ]
  },
  {
   "cell_type": "code",
   "execution_count": 53,
   "metadata": {},
   "outputs": [],
   "source": [
    "import importlib\n",
    "from feature_extraction import LinguisticFeatureExtractor\n",
    "importlib.reload(LinguisticFeatureExtractor)\n",
    "cc = LinguisticFeatureExtractor.CharacterCounter()\n",
    "wc = LinguisticFeatureExtractor.WordCounter()"
   ]
  },
  {
   "cell_type": "code",
   "execution_count": 60,
   "metadata": {},
   "outputs": [],
   "source": [
    "# Demo\n",
    "str1 = 'Deze zin--heel vervelend die streepjes-- is geen \"clickbait\" woord-aanelkaar 1.0 single-quote\\'s.'\n",
    "str2 = \"Nemo enim ipsam voluptatem quia voluptas sit aspernatur aut odit aut fugit, sed quia consequuntur magni dolores eos qui.\""
   ]
  },
  {
   "cell_type": "code",
   "execution_count": 61,
   "metadata": {},
   "outputs": [
    {
     "name": "stdout",
     "output_type": "stream",
     "text": [
      "86\n",
      "102\n",
      "16\n",
      "16\n",
      "0.8431372549019608\n",
      "1.186046511627907\n"
     ]
    }
   ],
   "source": [
    "print(cc.numchars(str1))\n",
    "print(cc.numchars(str2))\n",
    "print(cc.diff(str1, str2))\n",
    "print(cc.diff(str2, str1))\n",
    "print(cc.ratio(str1, str2))\n",
    "print(cc.ratio(str2, str1))"
   ]
  },
  {
   "cell_type": "code",
   "execution_count": 62,
   "metadata": {},
   "outputs": [
    {
     "name": "stdout",
     "output_type": "stream",
     "text": [
      "['Deze', 'zin', 'heel', 'vervelend', 'die', 'streepjes', 'is', 'geen', 'clickbait', 'woordaanelkaar', '1.0', \"singlequote's.\"]\n",
      "['Nemo', 'enim', 'ipsam', 'voluptatem', 'quia', 'voluptas', 'sit', 'aspernatur', 'aut', 'odit', 'aut', 'fugit', 'sed', 'quia', 'consequuntur', 'magni', 'dolores', 'eos', 'qui.']\n",
      "12\n",
      "19\n",
      "7\n",
      "7\n",
      "0.631578947368421\n",
      "1.5833333333333333\n"
     ]
    }
   ],
   "source": [
    "print(wc.words(str1))\n",
    "print(wc.words(str2))\n",
    "print(wc.numwords(str1))\n",
    "print(wc.numwords(str2))\n",
    "print(wc.diff(str1, str2))\n",
    "print(wc.diff(str2, str1))\n",
    "print(wc.ratio(str1, str2))\n",
    "print(wc.ratio(str2, str1))"
   ]
  },
  {
   "cell_type": "markdown",
   "metadata": {},
   "source": [
    "## Load data\n",
    "Parse the JSON and construct two Pandas dataframes."
   ]
  },
  {
   "cell_type": "code",
   "execution_count": 4,
   "metadata": {},
   "outputs": [],
   "source": [
    "ds2016 = \"../data/clickbait17-train-170331/instances.jsonl\"\n",
    "ds2017 = \"../data/clickbait17-validation-170630/instances.jsonl\""
   ]
  },
  {
   "cell_type": "code",
   "execution_count": 5,
   "metadata": {},
   "outputs": [],
   "source": [
    "df16 = pd.read_json(ds2016, lines=True, encoding='utf8')\n",
    "df17 = pd.read_json(ds2017, lines=True, encoding='utf8')"
   ]
  },
  {
   "cell_type": "code",
   "execution_count": 61,
   "metadata": {},
   "outputs": [],
   "source": [
    "df16['chars'] = df16.apply(lambda x : cc.chars(x['postText'][0]), axis=1)\n",
    "df16['words'] = df16.apply(lambda x : wc.words(x['postText'][0]), axis=1)"
   ]
  },
  {
   "cell_type": "markdown",
   "metadata": {},
   "source": [
    "## Article titles"
   ]
  },
  {
   "cell_type": "code",
   "execution_count": 62,
   "metadata": {},
   "outputs": [
    {
     "data": {
      "text/html": [
       "<div>\n",
       "<style scoped>\n",
       "    .dataframe tbody tr th:only-of-type {\n",
       "        vertical-align: middle;\n",
       "    }\n",
       "\n",
       "    .dataframe tbody tr th {\n",
       "        vertical-align: top;\n",
       "    }\n",
       "\n",
       "    .dataframe thead th {\n",
       "        text-align: right;\n",
       "    }\n",
       "</style>\n",
       "<table border=\"1\" class=\"dataframe\">\n",
       "  <thead>\n",
       "    <tr style=\"text-align: right;\">\n",
       "      <th></th>\n",
       "      <th>id</th>\n",
       "      <th>postMedia</th>\n",
       "      <th>postText</th>\n",
       "      <th>postTimestamp</th>\n",
       "      <th>targetCaptions</th>\n",
       "      <th>targetDescription</th>\n",
       "      <th>targetKeywords</th>\n",
       "      <th>targetParagraphs</th>\n",
       "      <th>targetTitle</th>\n",
       "      <th>chars</th>\n",
       "      <th>words</th>\n",
       "    </tr>\n",
       "  </thead>\n",
       "  <tbody>\n",
       "    <tr>\n",
       "      <th>0</th>\n",
       "      <td>608310377143799808</td>\n",
       "      <td>[]</td>\n",
       "      <td>[Apple's iOS 9 'App thinning' feature will give your phone's storage a boost]</td>\n",
       "      <td>Tue Jun 09 16:31:10 +0000 2015</td>\n",
       "      <td>['App thinning' will be supported on Apple's iOS 9 and later models. It ensures apps use the lowest amount of storage space on a device by only downloading the parts it needs to run on individual handsets. It 'slices' the app into 'app variants' that only need to access the specific files on that specific device, 'App thinning' will be supported on Apple's iOS 9 and later models. It ensures apps use the lowest amount of storage space on a device by only downloading the parts it needs to run on individual handsets. It 'slices' the app into 'app variants' that only need to access the specific files on that specific device, The guidelines also discuss so-called 'on-demand resources.' This allows developers to omit features from an app until they are opened or requested by the user. The App Store hosts these resources on Apple servers and manages the downloads for the developer and user. This will also increase how quickly an app downloads, The guidelines also discuss so-called 'on-dem...</td>\n",
       "      <td>'App thinning' will be supported on Apple's iOS 9 and later models. It ensures apps use the lowest amount of storage space by 'slicing' it to work on individual handsets (illustrated).</td>\n",
       "      <td>Apple,gives,gigabytes,iOS,9,app,thinning,feature,finally,phone,s,storage,boost</td>\n",
       "      <td>[Paying for a 64GB phone only to discover that this is significantly reduced by system files and bloatware is the bane of many smartphone owner's lives. , And the issue became so serious earlier this year that some Apple users even sued the company over it. , But with the launch of iOS 9, Apple is hoping to address storage concerns by introducing a feature known as 'app thinning.', It has been explained on the watchOS Developer Library site and is aimed at developers looking to optimise their apps to work on iOS and the watchOS. , It ensures apps use the lowest amount of storage space on a device by only downloading the parts it needs run on the particular handset it is being installed onto., It 'slices' the app into 'app variants' that only need to access the specific files on that specific handset. , XperiaBlog recently spotted that the 8GB version of Sony's mid-range M4 Aqua has just 1.26GB of space for users. , This means that firmware, pre-installed apps and Android software t...</td>\n",
       "      <td>Apple gives back gigabytes: iOS 9 'app thinning' feature will finally give your phone's storage a boost</td>\n",
       "      <td>63</td>\n",
       "      <td>13</td>\n",
       "    </tr>\n",
       "    <tr>\n",
       "      <th>1</th>\n",
       "      <td>609297109095972864</td>\n",
       "      <td>[media/609297109095972864.jpg]</td>\n",
       "      <td>[RT @kenbrown12: Emerging market investors are doing their best Monty Pythons--\"Run away, run away\"]</td>\n",
       "      <td>Fri Jun 12 09:52:05 +0000 2015</td>\n",
       "      <td>[Stocks Fall as Investors Watch Central Banks, Do Traders See Data Before Release? Markets Say Yes, Be Careful: Stock Volatility is Hiding, Not Hibernating, Singapore Bans Ex-Goldman Banker Linked to 1MDB From Working in Financial Sector, Demanding and Direct: HSBC’s New Chairman Mark Tucker, Saudi King’s Asia Expedition Enters Crucial Phase, Puerto Rico Board Approves Fiscal Road Map, CFPB, Justice Department Poised to Square Off in Court, Raphael Bostic to Lead Atlanta Fed, Blackstone Sells Part of Stake in NCR, Dartmouth College Appoints Alice Ruth as New Endowment Chief, Hedge-Fund Loses Big on Oil Bets, Buyout Firm Buys $800 Million of Assets From Itself, J.P. Morgan Moves Ahead With Plan to Drop Commissions in IRAs, Fed Signal Could Revive a Problem for China’s Central Bank, Why Apple and Pfizer Are Piling Into Taiwan’s Bond Market, [https://m.wsj.net/video/20170312/031017vinny/031017vinny_167x94.jpg], [https://m.wsj.net/video/20170303/0307lotd_boca/0307lotd_boca_167x94.jpg],...</td>\n",
       "      <td>Global investors have yanked $9.3 billion from stocks in developing countries in the week to Wednesday, the most since the depths of the 2008 global financial crisis.</td>\n",
       "      <td>emerging market,emerging markets,em flows,em inflow,em outflow,equity markets,money,forex markets,commodity,financial market news</td>\n",
       "      <td>[Emerging markets are out of favor., Global investors have yanked $9.3 billion from stocks in developing countries in the week to Wednesday, the most since the depths of the global financial crisis in 2008. Asia has been particularly vulnerable with $7.9 billion pulled out of the region’s equity markets, the most in almost 15 years, according to data provider EPFR Global., Financial markets in emerging markets have been grinding...]</td>\n",
       "      <td>Emerging Markets Suffer Largest Outflow in Seven Years</td>\n",
       "      <td>85</td>\n",
       "      <td>15</td>\n",
       "    </tr>\n",
       "    <tr>\n",
       "      <th>2</th>\n",
       "      <td>609504474621612032</td>\n",
       "      <td>[]</td>\n",
       "      <td>[U.S. Soccer should start answering tough questions about Hope Solo, @eric_adelson writes.]</td>\n",
       "      <td>Fri Jun 12 23:36:05 +0000 2015</td>\n",
       "      <td>[US to vote for Ali in FIFA election and not Blatter, US to vote for Ali in FIFA election and not Blatter, FILE - This Oct. 10, 2014, file photo shows Sunil Gulati, president of the United States Soccer Federation, during a press conference in Bristol, Conn. The United States says it will vote for Jordan's Prince Ali bin Al-Hussein for FIFA president Friday, May 29, 2015 and not for incumbent Sepp Blatter. (AP Photo/Elise Amendola, File)]</td>\n",
       "      <td>A U.S. Senator's scathing letter questioned U.S. Soccer's inadequate handling of Solo's domestic violence charges. It's time for Sunil Gulati to respond.</td>\n",
       "      <td></td>\n",
       "      <td>[WINNIPEG, Manitoba – The bubble U.S. Soccer is putting around Hope Solo isn't working to calm anyone's concerns about the star goalkeeper., The latest lament comes from no less than a U.S. Senator, who into Solo's domestic violence incident of last year and offer a detailed explanation of why Solo is on the field. She is expected to be the starting goalkeeper when the USA plays Sweden in its second group game at the Women's World Cup on Friday., [FC Yahoo: ], U.S. Senator Richard Blumenthal of Connecticut penned a lengthy complaint about the near-silence the organization has given on Solo, especially in the wake of ESPN's \"Outside the Lines\" report on Sunday. Blumenthal wrote that if the report is accurate \"U.S. Soccer's approach to domestic violence and family violence is at best superficial and at worst dangerously neglectful and self-serving.\", This situation is well beyond Solo now. U.S. Soccer has made this a referendum about its own ability to represent the values of the nat...</td>\n",
       "      <td>U.S. Soccer should start answering tough questions about Hope Solo</td>\n",
       "      <td>78</td>\n",
       "      <td>13</td>\n",
       "    </tr>\n",
       "    <tr>\n",
       "      <th>3</th>\n",
       "      <td>609748367049105408</td>\n",
       "      <td>[]</td>\n",
       "      <td>[How theme parks like Disney World left the middle class behind]</td>\n",
       "      <td>Sat Jun 13 15:45:13 +0000 2015</td>\n",
       "      <td>[Some 1,000 persons turned out in Albuquerque, New Mexico to greet Mickey Mouse on Nov. 14, 1978, as he celebrated his 50th birthday with a whistle-stop train tour. (AP Photo/John Holmes), Tourists crowd around Cinderella’s Castle to watch a performance at Walt Disney World’s Magic Kingdom in Lake Buena Vista, Fla., Thursday, Sept. 2, 2004. (AP Photo/Phelan M. Ebenhack), Card Walker, right, president and chief operating officer for Walt Disney Inc., kicks off Disney World’s tenth birthday celebration by welcoming the William Windsor family in Orlando, Oct. 1, 1981. The Windsors were the first to see the Magic Kingdom, when it first opened ten years before. (AP Photo), Views of the private Cinderella luxury suite at the top of Cinderella’s Castle at Walt Disney World’s Magic Kingdom in Lake Buena Vista, Fla. are seen on Friday, Jan. 26,2006. A night’s stay at the castle was one of prizes given randomly to unsuspecting park guests recently as part of the launch of Disney’s “Year of a...</td>\n",
       "      <td>America's top family vacation spots, like the \"happiest place on earth,\" are increasingly aimed at upscale buyers.</td>\n",
       "      <td>disney, disney world, disney ticket prices, disney world prices, disneyland, disneyworld, disney world price, trip to disney world,</td>\n",
       "      <td>[When Walt Disney World opened in an Orlando swamp in 1971, with its penny arcade and marching-band parade down Main Street U.S.A., admission for an adult cost $3.50, about as much then as three gallons of milk., Disney has raised the gate price for the Magic Kingdom 41 times since, nearly doubling it over the past decade. This year, a ticket inside the “most magical place on Earth” rocketed past $100 for the first time in history., Ballooning costs have not slowed the mouse-eared masses flooding into the world’s busiest theme park. Disney’s main attraction hosted a record 19 million visitors last year, a number nearly as large as the population of New York state., But rising prices have changed the character of Big Mouse’s family-friendly empire in unavoidably glitzy ways. A visitor to Disney’s central Florida fantasy-land can now dine on a $115 steak, enjoy a $53-per-plate dessert party and sleep in a bungalow overlooking the Seven Seas Lagoon starting at $2,100 a night., For Ame...</td>\n",
       "      <td>How theme parks like Disney World left the middle class behind</td>\n",
       "      <td>52</td>\n",
       "      <td>11</td>\n",
       "    </tr>\n",
       "    <tr>\n",
       "      <th>4</th>\n",
       "      <td>608688782821453824</td>\n",
       "      <td>[media/608688782821453825.jpg]</td>\n",
       "      <td>[Could light bulbs hurt your health? One company is now putting warning labels on its bulbs:]</td>\n",
       "      <td>Wed Jun 10 17:34:49 +0000 2015</td>\n",
       "      <td>[Electric lights have made the world safer and made people smarter, but can they also hurt our health?, Electric lights have made the world safer and made people smarter, but can they also hurt our health?, Quantcast]</td>\n",
       "      <td>One company will put a health notice on all the packages for their lighting.  Here's how electric lights can hurt your health</td>\n",
       "      <td>health, Should there be warning labels on your light bulbs?  - CNN.com</td>\n",
       "      <td>[(CNN)The light bulb always makes the world's top inventions lists., It makes us more productive. It deters crime. It's allowed New York to become the \"city that never sleeps.\" And yet, more than just Manhattenites are failing to get their zzz's because of electric lighting, and there is growing body of scientific evidence that electric lighting may be hurting our health., Scientists have talked about this for years, but now a lighting company is about to point that out to every single one of its customers. And they are doing it voluntarily. What's the catch?, The company, Florida based Lighting Science Group does make a line of biological lighting that it says can be a better fit for your health than a traditional light bulb. Their idea is that you should get the right light for the right time. So they sell a product that is supposed to be better for bedtime, and another to help you feel more awake. But with this announcement, Fred Maxik, the company's chief science officer, seems...</td>\n",
       "      <td>Warning labels on your light bulbs</td>\n",
       "      <td>76</td>\n",
       "      <td>16</td>\n",
       "    </tr>\n",
       "  </tbody>\n",
       "</table>\n",
       "</div>"
      ],
      "text/plain": [
       "                   id                       postMedia  \\\n",
       "0  608310377143799808                              []   \n",
       "1  609297109095972864  [media/609297109095972864.jpg]   \n",
       "2  609504474621612032                              []   \n",
       "3  609748367049105408                              []   \n",
       "4  608688782821453824  [media/608688782821453825.jpg]   \n",
       "\n",
       "                                                                                               postText  \\\n",
       "0                         [Apple's iOS 9 'App thinning' feature will give your phone's storage a boost]   \n",
       "1  [RT @kenbrown12: Emerging market investors are doing their best Monty Pythons--\"Run away, run away\"]   \n",
       "2           [U.S. Soccer should start answering tough questions about Hope Solo, @eric_adelson writes.]   \n",
       "3                                      [How theme parks like Disney World left the middle class behind]   \n",
       "4         [Could light bulbs hurt your health? One company is now putting warning labels on its bulbs:]   \n",
       "\n",
       "                    postTimestamp  \\\n",
       "0  Tue Jun 09 16:31:10 +0000 2015   \n",
       "1  Fri Jun 12 09:52:05 +0000 2015   \n",
       "2  Fri Jun 12 23:36:05 +0000 2015   \n",
       "3  Sat Jun 13 15:45:13 +0000 2015   \n",
       "4  Wed Jun 10 17:34:49 +0000 2015   \n",
       "\n",
       "                                                                                                                                                                                                                                                                                                                                                                                                                                                                                                                                                                                                                                                                                                                                                                                                                                                                                                                                                                                                                            targetCaptions  \\\n",
       "0  ['App thinning' will be supported on Apple's iOS 9 and later models. It ensures apps use the lowest amount of storage space on a device by only downloading the parts it needs to run on individual handsets. It 'slices' the app into 'app variants' that only need to access the specific files on that specific device, 'App thinning' will be supported on Apple's iOS 9 and later models. It ensures apps use the lowest amount of storage space on a device by only downloading the parts it needs to run on individual handsets. It 'slices' the app into 'app variants' that only need to access the specific files on that specific device, The guidelines also discuss so-called 'on-demand resources.' This allows developers to omit features from an app until they are opened or requested by the user. The App Store hosts these resources on Apple servers and manages the downloads for the developer and user. This will also increase how quickly an app downloads, The guidelines also discuss so-called 'on-dem...   \n",
       "1  [Stocks Fall as Investors Watch Central Banks, Do Traders See Data Before Release? Markets Say Yes, Be Careful: Stock Volatility is Hiding, Not Hibernating, Singapore Bans Ex-Goldman Banker Linked to 1MDB From Working in Financial Sector, Demanding and Direct: HSBC’s New Chairman Mark Tucker, Saudi King’s Asia Expedition Enters Crucial Phase, Puerto Rico Board Approves Fiscal Road Map, CFPB, Justice Department Poised to Square Off in Court, Raphael Bostic to Lead Atlanta Fed, Blackstone Sells Part of Stake in NCR, Dartmouth College Appoints Alice Ruth as New Endowment Chief, Hedge-Fund Loses Big on Oil Bets, Buyout Firm Buys $800 Million of Assets From Itself, J.P. Morgan Moves Ahead With Plan to Drop Commissions in IRAs, Fed Signal Could Revive a Problem for China’s Central Bank, Why Apple and Pfizer Are Piling Into Taiwan’s Bond Market, [https://m.wsj.net/video/20170312/031017vinny/031017vinny_167x94.jpg], [https://m.wsj.net/video/20170303/0307lotd_boca/0307lotd_boca_167x94.jpg],...   \n",
       "2                                                                                                                                                                                                                                                                                                                                                                                                                                                                                                                                                                               [US to vote for Ali in FIFA election and not Blatter, US to vote for Ali in FIFA election and not Blatter, FILE - This Oct. 10, 2014, file photo shows Sunil Gulati, president of the United States Soccer Federation, during a press conference in Bristol, Conn. The United States says it will vote for Jordan's Prince Ali bin Al-Hussein for FIFA president Friday, May 29, 2015 and not for incumbent Sepp Blatter. (AP Photo/Elise Amendola, File)]   \n",
       "3  [Some 1,000 persons turned out in Albuquerque, New Mexico to greet Mickey Mouse on Nov. 14, 1978, as he celebrated his 50th birthday with a whistle-stop train tour. (AP Photo/John Holmes), Tourists crowd around Cinderella’s Castle to watch a performance at Walt Disney World’s Magic Kingdom in Lake Buena Vista, Fla., Thursday, Sept. 2, 2004. (AP Photo/Phelan M. Ebenhack), Card Walker, right, president and chief operating officer for Walt Disney Inc., kicks off Disney World’s tenth birthday celebration by welcoming the William Windsor family in Orlando, Oct. 1, 1981. The Windsors were the first to see the Magic Kingdom, when it first opened ten years before. (AP Photo), Views of the private Cinderella luxury suite at the top of Cinderella’s Castle at Walt Disney World’s Magic Kingdom in Lake Buena Vista, Fla. are seen on Friday, Jan. 26,2006. A night’s stay at the castle was one of prizes given randomly to unsuspecting park guests recently as part of the launch of Disney’s “Year of a...   \n",
       "4                                                                                                                                                                                                                                                                                                                                                                                                                                                                                                                                                                                                                                                                                                                                                                                                                [Electric lights have made the world safer and made people smarter, but can they also hurt our health?, Electric lights have made the world safer and made people smarter, but can they also hurt our health?, Quantcast]   \n",
       "\n",
       "                                                                                                                                                                          targetDescription  \\\n",
       "0  'App thinning' will be supported on Apple's iOS 9 and later models. It ensures apps use the lowest amount of storage space by 'slicing' it to work on individual handsets (illustrated).   \n",
       "1                    Global investors have yanked $9.3 billion from stocks in developing countries in the week to Wednesday, the most since the depths of the 2008 global financial crisis.   \n",
       "2                                 A U.S. Senator's scathing letter questioned U.S. Soccer's inadequate handling of Solo's domestic violence charges. It's time for Sunil Gulati to respond.   \n",
       "3                                                                        America's top family vacation spots, like the \"happiest place on earth,\" are increasingly aimed at upscale buyers.   \n",
       "4                                                             One company will put a health notice on all the packages for their lighting.  Here's how electric lights can hurt your health   \n",
       "\n",
       "                                                                                                                         targetKeywords  \\\n",
       "0                                                        Apple,gives,gigabytes,iOS,9,app,thinning,feature,finally,phone,s,storage,boost   \n",
       "1     emerging market,emerging markets,em flows,em inflow,em outflow,equity markets,money,forex markets,commodity,financial market news   \n",
       "2                                                                                                                                         \n",
       "3  disney, disney world, disney ticket prices, disney world prices, disneyland, disneyworld, disney world price, trip to disney world,    \n",
       "4                                                                health, Should there be warning labels on your light bulbs?  - CNN.com   \n",
       "\n",
       "                                                                                                                                                                                                                                                                                                                                                                                                                                                                                                                                                                                                                                                                                                                                                                                                                                                                                                                                                                                                                          targetParagraphs  \\\n",
       "0  [Paying for a 64GB phone only to discover that this is significantly reduced by system files and bloatware is the bane of many smartphone owner's lives. , And the issue became so serious earlier this year that some Apple users even sued the company over it. , But with the launch of iOS 9, Apple is hoping to address storage concerns by introducing a feature known as 'app thinning.', It has been explained on the watchOS Developer Library site and is aimed at developers looking to optimise their apps to work on iOS and the watchOS. , It ensures apps use the lowest amount of storage space on a device by only downloading the parts it needs run on the particular handset it is being installed onto., It 'slices' the app into 'app variants' that only need to access the specific files on that specific handset. , XperiaBlog recently spotted that the 8GB version of Sony's mid-range M4 Aqua has just 1.26GB of space for users. , This means that firmware, pre-installed apps and Android software t...   \n",
       "1                                                                                                                                                                                                                                                                                                                                                                                                                                                                                                                                                                                     [Emerging markets are out of favor., Global investors have yanked $9.3 billion from stocks in developing countries in the week to Wednesday, the most since the depths of the global financial crisis in 2008. Asia has been particularly vulnerable with $7.9 billion pulled out of the region’s equity markets, the most in almost 15 years, according to data provider EPFR Global., Financial markets in emerging markets have been grinding...]   \n",
       "2  [WINNIPEG, Manitoba – The bubble U.S. Soccer is putting around Hope Solo isn't working to calm anyone's concerns about the star goalkeeper., The latest lament comes from no less than a U.S. Senator, who into Solo's domestic violence incident of last year and offer a detailed explanation of why Solo is on the field. She is expected to be the starting goalkeeper when the USA plays Sweden in its second group game at the Women's World Cup on Friday., [FC Yahoo: ], U.S. Senator Richard Blumenthal of Connecticut penned a lengthy complaint about the near-silence the organization has given on Solo, especially in the wake of ESPN's \"Outside the Lines\" report on Sunday. Blumenthal wrote that if the report is accurate \"U.S. Soccer's approach to domestic violence and family violence is at best superficial and at worst dangerously neglectful and self-serving.\", This situation is well beyond Solo now. U.S. Soccer has made this a referendum about its own ability to represent the values of the nat...   \n",
       "3  [When Walt Disney World opened in an Orlando swamp in 1971, with its penny arcade and marching-band parade down Main Street U.S.A., admission for an adult cost $3.50, about as much then as three gallons of milk., Disney has raised the gate price for the Magic Kingdom 41 times since, nearly doubling it over the past decade. This year, a ticket inside the “most magical place on Earth” rocketed past $100 for the first time in history., Ballooning costs have not slowed the mouse-eared masses flooding into the world’s busiest theme park. Disney’s main attraction hosted a record 19 million visitors last year, a number nearly as large as the population of New York state., But rising prices have changed the character of Big Mouse’s family-friendly empire in unavoidably glitzy ways. A visitor to Disney’s central Florida fantasy-land can now dine on a $115 steak, enjoy a $53-per-plate dessert party and sleep in a bungalow overlooking the Seven Seas Lagoon starting at $2,100 a night., For Ame...   \n",
       "4  [(CNN)The light bulb always makes the world's top inventions lists., It makes us more productive. It deters crime. It's allowed New York to become the \"city that never sleeps.\" And yet, more than just Manhattenites are failing to get their zzz's because of electric lighting, and there is growing body of scientific evidence that electric lighting may be hurting our health., Scientists have talked about this for years, but now a lighting company is about to point that out to every single one of its customers. And they are doing it voluntarily. What's the catch?, The company, Florida based Lighting Science Group does make a line of biological lighting that it says can be a better fit for your health than a traditional light bulb. Their idea is that you should get the right light for the right time. So they sell a product that is supposed to be better for bedtime, and another to help you feel more awake. But with this announcement, Fred Maxik, the company's chief science officer, seems...   \n",
       "\n",
       "                                                                                               targetTitle  \\\n",
       "0  Apple gives back gigabytes: iOS 9 'app thinning' feature will finally give your phone's storage a boost   \n",
       "1                                                   Emerging Markets Suffer Largest Outflow in Seven Years   \n",
       "2                                       U.S. Soccer should start answering tough questions about Hope Solo   \n",
       "3                                           How theme parks like Disney World left the middle class behind   \n",
       "4                                                                       Warning labels on your light bulbs   \n",
       "\n",
       "   chars  words  \n",
       "0     63     13  \n",
       "1     85     15  \n",
       "2     78     13  \n",
       "3     52     11  \n",
       "4     76     16  "
      ]
     },
     "execution_count": 62,
     "metadata": {},
     "output_type": "execute_result"
    }
   ],
   "source": [
    "df16.head()"
   ]
  },
  {
   "cell_type": "markdown",
   "metadata": {},
   "source": [
    "## Post titles per article"
   ]
  },
  {
   "cell_type": "code",
   "execution_count": 62,
   "metadata": {},
   "outputs": [
    {
     "data": {
      "text/html": [
       "<div>\n",
       "<style scoped>\n",
       "    .dataframe tbody tr th:only-of-type {\n",
       "        vertical-align: middle;\n",
       "    }\n",
       "\n",
       "    .dataframe tbody tr th {\n",
       "        vertical-align: top;\n",
       "    }\n",
       "\n",
       "    .dataframe thead th {\n",
       "        text-align: right;\n",
       "    }\n",
       "</style>\n",
       "<table border=\"1\" class=\"dataframe\">\n",
       "  <thead>\n",
       "    <tr style=\"text-align: right;\">\n",
       "      <th></th>\n",
       "      <th>postTextLen</th>\n",
       "      <th>numImg</th>\n",
       "    </tr>\n",
       "  </thead>\n",
       "  <tbody>\n",
       "    <tr>\n",
       "      <th>count</th>\n",
       "      <td>2459.0</td>\n",
       "      <td>2459.000000</td>\n",
       "    </tr>\n",
       "    <tr>\n",
       "      <th>mean</th>\n",
       "      <td>1.0</td>\n",
       "      <td>0.660024</td>\n",
       "    </tr>\n",
       "    <tr>\n",
       "      <th>std</th>\n",
       "      <td>0.0</td>\n",
       "      <td>0.473797</td>\n",
       "    </tr>\n",
       "    <tr>\n",
       "      <th>min</th>\n",
       "      <td>1.0</td>\n",
       "      <td>0.000000</td>\n",
       "    </tr>\n",
       "    <tr>\n",
       "      <th>25%</th>\n",
       "      <td>1.0</td>\n",
       "      <td>0.000000</td>\n",
       "    </tr>\n",
       "    <tr>\n",
       "      <th>50%</th>\n",
       "      <td>1.0</td>\n",
       "      <td>1.000000</td>\n",
       "    </tr>\n",
       "    <tr>\n",
       "      <th>75%</th>\n",
       "      <td>1.0</td>\n",
       "      <td>1.000000</td>\n",
       "    </tr>\n",
       "    <tr>\n",
       "      <th>max</th>\n",
       "      <td>1.0</td>\n",
       "      <td>1.000000</td>\n",
       "    </tr>\n",
       "  </tbody>\n",
       "</table>\n",
       "</div>"
      ],
      "text/plain": [
       "       postTextLen       numImg\n",
       "count       2459.0  2459.000000\n",
       "mean           1.0     0.660024\n",
       "std            0.0     0.473797\n",
       "min            1.0     0.000000\n",
       "25%            1.0     0.000000\n",
       "50%            1.0     1.000000\n",
       "75%            1.0     1.000000\n",
       "max            1.0     1.000000"
      ]
     },
     "metadata": {},
     "output_type": "execute_result"
    },
    {
     "data": {
      "text/html": [
       "<div>\n",
       "<style scoped>\n",
       "    .dataframe tbody tr th:only-of-type {\n",
       "        vertical-align: middle;\n",
       "    }\n",
       "\n",
       "    .dataframe tbody tr th {\n",
       "        vertical-align: top;\n",
       "    }\n",
       "\n",
       "    .dataframe thead th {\n",
       "        text-align: right;\n",
       "    }\n",
       "</style>\n",
       "<table border=\"1\" class=\"dataframe\">\n",
       "  <thead>\n",
       "    <tr style=\"text-align: right;\">\n",
       "      <th></th>\n",
       "      <th>postTextLen</th>\n",
       "      <th>numImg</th>\n",
       "    </tr>\n",
       "  </thead>\n",
       "  <tbody>\n",
       "    <tr>\n",
       "      <th>count</th>\n",
       "      <td>19538.0</td>\n",
       "      <td>19538.000000</td>\n",
       "    </tr>\n",
       "    <tr>\n",
       "      <th>mean</th>\n",
       "      <td>1.0</td>\n",
       "      <td>0.566435</td>\n",
       "    </tr>\n",
       "    <tr>\n",
       "      <th>std</th>\n",
       "      <td>0.0</td>\n",
       "      <td>0.603358</td>\n",
       "    </tr>\n",
       "    <tr>\n",
       "      <th>min</th>\n",
       "      <td>1.0</td>\n",
       "      <td>0.000000</td>\n",
       "    </tr>\n",
       "    <tr>\n",
       "      <th>25%</th>\n",
       "      <td>1.0</td>\n",
       "      <td>0.000000</td>\n",
       "    </tr>\n",
       "    <tr>\n",
       "      <th>50%</th>\n",
       "      <td>1.0</td>\n",
       "      <td>1.000000</td>\n",
       "    </tr>\n",
       "    <tr>\n",
       "      <th>75%</th>\n",
       "      <td>1.0</td>\n",
       "      <td>1.000000</td>\n",
       "    </tr>\n",
       "    <tr>\n",
       "      <th>max</th>\n",
       "      <td>1.0</td>\n",
       "      <td>4.000000</td>\n",
       "    </tr>\n",
       "  </tbody>\n",
       "</table>\n",
       "</div>"
      ],
      "text/plain": [
       "       postTextLen        numImg\n",
       "count      19538.0  19538.000000\n",
       "mean           1.0      0.566435\n",
       "std            0.0      0.603358\n",
       "min            1.0      0.000000\n",
       "25%            1.0      0.000000\n",
       "50%            1.0      1.000000\n",
       "75%            1.0      1.000000\n",
       "max            1.0      4.000000"
      ]
     },
     "metadata": {},
     "output_type": "execute_result"
    }
   ],
   "source": [
    "# Post Titles\n",
    "df16['postTextLen'] = df16.apply(lambda x : len(x['postText']), axis=1)\n",
    "df17['postTextLen'] = df17.apply(lambda x : len(x['postText']), axis=1)\n",
    "\n",
    "# Images\n",
    "df16['numImg'] = df16.apply(lambda x : len(x['postMedia']), axis=1)\n",
    "df17['numImg'] = df17.apply(lambda x : len(x['postMedia']), axis=1)\n",
    "\n",
    "# Show\n",
    "display(df16[['postTextLen', 'numImg']].describe())\n",
    "display(df17[['postTextLen', 'numImg']].describe())"
   ]
  },
  {
   "cell_type": "code",
   "execution_count": null,
   "metadata": {},
   "outputs": [],
   "source": []
  }
 ],
 "metadata": {
  "kernelspec": {
   "display_name": "Python 3",
   "language": "python",
   "name": "python3"
  },
  "language_info": {
   "codemirror_mode": {
    "name": "ipython",
    "version": 3
   },
   "file_extension": ".py",
   "mimetype": "text/x-python",
   "name": "python",
   "nbconvert_exporter": "python",
   "pygments_lexer": "ipython3",
   "version": "3.7.1"
  }
 },
 "nbformat": 4,
 "nbformat_minor": 2
}
