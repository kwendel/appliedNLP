{
 "cells": [
  {
   "cell_type": "markdown",
   "metadata": {},
   "source": [
    "# Feature extraction"
   ]
  },
  {
   "cell_type": "code",
   "execution_count": 1,
   "metadata": {},
   "outputs": [],
   "source": [
    "%load_ext autoreload\n",
    "%autoreload 2"
   ]
  },
  {
   "cell_type": "code",
   "execution_count": 2,
   "metadata": {},
   "outputs": [],
   "source": [
    "import pandas as pd\n",
    "import feature_extraction"
   ]
  },
  {
   "cell_type": "markdown",
   "metadata": {},
   "source": [
    "## Load dataset"
   ]
  },
  {
   "cell_type": "code",
   "execution_count": 3,
   "metadata": {},
   "outputs": [],
   "source": [
    "# Load CB16 dataset\n",
    "df = pd.read_json(\"../data/clickbait17-train-170331/instances.jsonl\", lines=True, encoding='utf8')\n",
    "df.set_index(\"id\", inplace=True)\n",
    "df_raw = df.copy()\n",
    "\n",
    "df_truth = pd.read_json(\"../data/clickbait17-train-170331/truth.jsonl\", lines=True, encoding='utf8')\n",
    "df_truth.set_index(\"id\", inplace=True)\n",
    "df_truth_raw = df_truth.copy()"
   ]
  },
  {
   "cell_type": "code",
   "execution_count": 4,
   "metadata": {},
   "outputs": [],
   "source": [
    "# Add truth judgments to df\n",
    "df = df.join(df_truth[[\"truthClass\"]]) # also available: truthClass, truthJudgments, truthMean, truthMedian, truthMode"
   ]
  },
  {
   "cell_type": "code",
   "execution_count": 5,
   "metadata": {},
   "outputs": [
    {
     "data": {
      "text/html": [
       "<div>\n",
       "<style scoped>\n",
       "    .dataframe tbody tr th:only-of-type {\n",
       "        vertical-align: middle;\n",
       "    }\n",
       "\n",
       "    .dataframe tbody tr th {\n",
       "        vertical-align: top;\n",
       "    }\n",
       "\n",
       "    .dataframe thead th {\n",
       "        text-align: right;\n",
       "    }\n",
       "</style>\n",
       "<table border=\"1\" class=\"dataframe\">\n",
       "  <thead>\n",
       "    <tr style=\"text-align: right;\">\n",
       "      <th></th>\n",
       "      <th>postMedia</th>\n",
       "      <th>postText</th>\n",
       "      <th>postTimestamp</th>\n",
       "      <th>targetCaptions</th>\n",
       "      <th>targetDescription</th>\n",
       "      <th>targetKeywords</th>\n",
       "      <th>targetParagraphs</th>\n",
       "      <th>targetTitle</th>\n",
       "      <th>truthClass</th>\n",
       "    </tr>\n",
       "    <tr>\n",
       "      <th>id</th>\n",
       "      <th></th>\n",
       "      <th></th>\n",
       "      <th></th>\n",
       "      <th></th>\n",
       "      <th></th>\n",
       "      <th></th>\n",
       "      <th></th>\n",
       "      <th></th>\n",
       "      <th></th>\n",
       "    </tr>\n",
       "  </thead>\n",
       "  <tbody>\n",
       "    <tr>\n",
       "      <th>608310377143799808</th>\n",
       "      <td>[]</td>\n",
       "      <td>[Apple's iOS 9 'App thinning' feature will giv...</td>\n",
       "      <td>Tue Jun 09 16:31:10 +0000 2015</td>\n",
       "      <td>['App thinning' will be supported on Apple's i...</td>\n",
       "      <td>'App thinning' will be supported on Apple's iO...</td>\n",
       "      <td>Apple,gives,gigabytes,iOS,9,app,thinning,featu...</td>\n",
       "      <td>[Paying for a 64GB phone only to discover that...</td>\n",
       "      <td>Apple gives back gigabytes: iOS 9 'app thinnin...</td>\n",
       "      <td>no-clickbait</td>\n",
       "    </tr>\n",
       "    <tr>\n",
       "      <th>609297109095972864</th>\n",
       "      <td>[media/609297109095972864.jpg]</td>\n",
       "      <td>[RT @kenbrown12: Emerging market investors are...</td>\n",
       "      <td>Fri Jun 12 09:52:05 +0000 2015</td>\n",
       "      <td>[Stocks Fall as Investors Watch Central Banks,...</td>\n",
       "      <td>Global investors have yanked $9.3 billion from...</td>\n",
       "      <td>emerging market,emerging markets,em flows,em i...</td>\n",
       "      <td>[Emerging markets are out of favor., Global in...</td>\n",
       "      <td>Emerging Markets Suffer Largest Outflow in Sev...</td>\n",
       "      <td>no-clickbait</td>\n",
       "    </tr>\n",
       "  </tbody>\n",
       "</table>\n",
       "</div>"
      ],
      "text/plain": [
       "                                         postMedia  \\\n",
       "id                                                   \n",
       "608310377143799808                              []   \n",
       "609297109095972864  [media/609297109095972864.jpg]   \n",
       "\n",
       "                                                             postText  \\\n",
       "id                                                                      \n",
       "608310377143799808  [Apple's iOS 9 'App thinning' feature will giv...   \n",
       "609297109095972864  [RT @kenbrown12: Emerging market investors are...   \n",
       "\n",
       "                                     postTimestamp  \\\n",
       "id                                                   \n",
       "608310377143799808  Tue Jun 09 16:31:10 +0000 2015   \n",
       "609297109095972864  Fri Jun 12 09:52:05 +0000 2015   \n",
       "\n",
       "                                                       targetCaptions  \\\n",
       "id                                                                      \n",
       "608310377143799808  ['App thinning' will be supported on Apple's i...   \n",
       "609297109095972864  [Stocks Fall as Investors Watch Central Banks,...   \n",
       "\n",
       "                                                    targetDescription  \\\n",
       "id                                                                      \n",
       "608310377143799808  'App thinning' will be supported on Apple's iO...   \n",
       "609297109095972864  Global investors have yanked $9.3 billion from...   \n",
       "\n",
       "                                                       targetKeywords  \\\n",
       "id                                                                      \n",
       "608310377143799808  Apple,gives,gigabytes,iOS,9,app,thinning,featu...   \n",
       "609297109095972864  emerging market,emerging markets,em flows,em i...   \n",
       "\n",
       "                                                     targetParagraphs  \\\n",
       "id                                                                      \n",
       "608310377143799808  [Paying for a 64GB phone only to discover that...   \n",
       "609297109095972864  [Emerging markets are out of favor., Global in...   \n",
       "\n",
       "                                                          targetTitle  \\\n",
       "id                                                                      \n",
       "608310377143799808  Apple gives back gigabytes: iOS 9 'app thinnin...   \n",
       "609297109095972864  Emerging Markets Suffer Largest Outflow in Sev...   \n",
       "\n",
       "                      truthClass  \n",
       "id                                \n",
       "608310377143799808  no-clickbait  \n",
       "609297109095972864  no-clickbait  "
      ]
     },
     "execution_count": 5,
     "metadata": {},
     "output_type": "execute_result"
    }
   ],
   "source": [
    "df.head(2)\n",
    "# len(df)"
   ]
  },
  {
   "cell_type": "markdown",
   "metadata": {},
   "source": [
    "## Extract features"
   ]
  },
  {
   "cell_type": "code",
   "execution_count": 6,
   "metadata": {},
   "outputs": [],
   "source": [
    "fe = feature_extraction.FeatureExtractor(r\"..\\data\\clickbait17-train-170331\", None) \n",
    "fe.set_df(df)"
   ]
  },
  {
   "cell_type": "code",
   "execution_count": 7,
   "metadata": {},
   "outputs": [],
   "source": [
    "labels, features = fe.extract_features()"
   ]
  },
  {
   "cell_type": "code",
   "execution_count": 15,
   "metadata": {},
   "outputs": [
    {
     "name": "stdout",
     "output_type": "stream",
     "text": [
      "                    numChars_PostTitle  ratioChars_PostImagePostTitle  \\\n",
      "id                                                                      \n",
      "608310377143799808                63.0                      -1.000000   \n",
      "609297109095972864                85.0                       2.352941   \n",
      "\n",
      "                    diffChars_PostTitleArticleKeywords  \\\n",
      "id                                                       \n",
      "608310377143799808                                15.0   \n",
      "609297109095972864                                35.0   \n",
      "\n",
      "                    diffChars_PostTitlePostImage  \\\n",
      "id                                                 \n",
      "608310377143799808                          -1.0   \n",
      "609297109095972864                         115.0   \n",
      "\n",
      "                    ratioWords_PostImagePostTitle  numWords_PostTitle  \\\n",
      "id                                                                      \n",
      "608310377143799808                           -1.0                13.0   \n",
      "609297109095972864                            2.4                15.0   \n",
      "\n",
      "                    numFormalWords_PostTitle  ratioWords_ArticleDescPostTitle  \\\n",
      "id                                                                              \n",
      "608310377143799808                       8.0                             18.0   \n",
      "609297109095972864                       9.0                             12.0   \n",
      "\n",
      "                    ratioChars_ArticleDescPostTitle  \\\n",
      "id                                                    \n",
      "608310377143799808                         2.444444   \n",
      "609297109095972864                         1.647059   \n",
      "\n",
      "                    ratioChars_ArticleTitlePostTitle  \\\n",
      "id                                                     \n",
      "608310377143799808                          1.380952   \n",
      "609297109095972864                          0.552941   \n",
      "\n",
      "                    ratioWords_ArticleTitlePostTitle  \\\n",
      "id                                                     \n",
      "608310377143799808                          1.307692   \n",
      "609297109095972864                          0.533333   \n",
      "\n",
      "                    diffWords_PostTitleArticleKeywords  \\\n",
      "id                                                       \n",
      "608310377143799808                                 0.0   \n",
      "609297109095972864                                 4.0   \n",
      "\n",
      "                    numQuestionmarksPostTitle  \\\n",
      "id                                              \n",
      "608310377143799808                        0.0   \n",
      "609297109095972864                        0.0   \n",
      "\n",
      "                    ratioChars_ArticleParagraphsPostTitle  \\\n",
      "id                                                          \n",
      "608310377143799808                               1.576564   \n",
      "609297109095972864                               1.427451   \n",
      "\n",
      "                    ratioChars_ArticleParagraphsArticleDesc  \n",
      "id                                                           \n",
      "608310377143799808                                 0.644958  \n",
      "609297109095972864                                 0.866667  \n",
      "[0 0]\n"
     ]
    }
   ],
   "source": [
    "print(features[:2])\n",
    "print(labels[:2])"
   ]
  },
  {
   "cell_type": "markdown",
   "metadata": {},
   "source": [
    "## Save the features and labels"
   ]
  },
  {
   "cell_type": "code",
   "execution_count": 14,
   "metadata": {},
   "outputs": [],
   "source": [
    "import pickle\n",
    "\n",
    "features.to_pickle(\"../features/1_paper_features.pkl\")\n",
    "labels.dump(open('../features/1_paper_labels.pkl', 'wb'))"
   ]
  },
  {
   "cell_type": "code",
   "execution_count": 19,
   "metadata": {},
   "outputs": [
    {
     "name": "stdout",
     "output_type": "stream",
     "text": [
      "                    numChars_PostTitle  ratioChars_PostImagePostTitle  \\\n",
      "id                                                                      \n",
      "608310377143799808                63.0                      -1.000000   \n",
      "609297109095972864                85.0                       2.352941   \n",
      "\n",
      "                    diffChars_PostTitleArticleKeywords  \\\n",
      "id                                                       \n",
      "608310377143799808                                15.0   \n",
      "609297109095972864                                35.0   \n",
      "\n",
      "                    diffChars_PostTitlePostImage  \\\n",
      "id                                                 \n",
      "608310377143799808                          -1.0   \n",
      "609297109095972864                         115.0   \n",
      "\n",
      "                    ratioWords_PostImagePostTitle  numWords_PostTitle  \\\n",
      "id                                                                      \n",
      "608310377143799808                           -1.0                13.0   \n",
      "609297109095972864                            2.4                15.0   \n",
      "\n",
      "                    numFormalWords_PostTitle  ratioWords_ArticleDescPostTitle  \\\n",
      "id                                                                              \n",
      "608310377143799808                       8.0                             18.0   \n",
      "609297109095972864                       9.0                             12.0   \n",
      "\n",
      "                    ratioChars_ArticleDescPostTitle  \\\n",
      "id                                                    \n",
      "608310377143799808                         2.444444   \n",
      "609297109095972864                         1.647059   \n",
      "\n",
      "                    ratioChars_ArticleTitlePostTitle  \\\n",
      "id                                                     \n",
      "608310377143799808                          1.380952   \n",
      "609297109095972864                          0.552941   \n",
      "\n",
      "                    ratioWords_ArticleTitlePostTitle  \\\n",
      "id                                                     \n",
      "608310377143799808                          1.307692   \n",
      "609297109095972864                          0.533333   \n",
      "\n",
      "                    diffWords_PostTitleArticleKeywords  \\\n",
      "id                                                       \n",
      "608310377143799808                                 0.0   \n",
      "609297109095972864                                 4.0   \n",
      "\n",
      "                    numQuestionmarksPostTitle  \\\n",
      "id                                              \n",
      "608310377143799808                        0.0   \n",
      "609297109095972864                        0.0   \n",
      "\n",
      "                    ratioChars_ArticleParagraphsPostTitle  \\\n",
      "id                                                          \n",
      "608310377143799808                               1.576564   \n",
      "609297109095972864                               1.427451   \n",
      "\n",
      "                    ratioChars_ArticleParagraphsArticleDesc  \n",
      "id                                                           \n",
      "608310377143799808                                 0.644958  \n",
      "609297109095972864                                 0.866667  \n",
      "[0 0]\n"
     ]
    }
   ],
   "source": [
    "# Check if items are the same\n",
    "import numpy\n",
    "\n",
    "f_load = pd.read_pickle(\"../features/1_paper_features.pkl\")\n",
    "l_load = numpy.load(\"../features/1_paper_labels.pkl\")\n",
    "\n",
    "print(f_load[:2])\n",
    "print(l_load[:2])"
   ]
  }
 ],
 "metadata": {
  "kernelspec": {
   "display_name": "Python [conda env:ir]",
   "language": "python",
   "name": "conda-env-ir-py"
  },
  "language_info": {
   "codemirror_mode": {
    "name": "ipython",
    "version": 3
   },
   "file_extension": ".py",
   "mimetype": "text/x-python",
   "name": "python",
   "nbconvert_exporter": "python",
   "pygments_lexer": "ipython3",
   "version": "3.7.1"
  }
 },
 "nbformat": 4,
 "nbformat_minor": 2
}
