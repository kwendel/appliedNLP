{
 "cells": [
  {
   "cell_type": "markdown",
   "metadata": {},
   "source": [
    "# Feature extraction"
   ]
  },
  {
   "cell_type": "code",
   "execution_count": 1,
   "metadata": {},
   "outputs": [],
   "source": [
    "%load_ext autoreload\n",
    "%autoreload 2"
   ]
  },
  {
   "cell_type": "code",
   "execution_count": 2,
   "metadata": {},
   "outputs": [],
   "source": [
    "import pandas as pd\n",
    "import feature_extraction"
   ]
  },
  {
   "cell_type": "markdown",
   "metadata": {},
   "source": [
    "## Load dataset"
   ]
  },
  {
   "cell_type": "code",
   "execution_count": 3,
   "metadata": {},
   "outputs": [],
   "source": [
    "# Load CB16 dataset\n",
    "df = pd.read_json(\"../data/clickbait17-train-170331/instances.jsonl\", lines=True, encoding='utf8')\n",
    "df.set_index(\"id\", inplace=True)\n",
    "df_raw = df.copy()\n",
    "\n",
    "df_truth = pd.read_json(\"../data/clickbait17-train-170331/truth.jsonl\", lines=True, encoding='utf8')\n",
    "df_truth.set_index(\"id\", inplace=True)\n",
    "df_truth_raw = df_truth.copy()"
   ]
  },
  {
   "cell_type": "code",
   "execution_count": 4,
   "metadata": {},
   "outputs": [],
   "source": [
    "# Add truth judgments to df\n",
    "df = df.join(df_truth[[\"truthClass\"]]) # also available: truthClass, truthJudgments, truthMean, truthMedian, truthMode"
   ]
  },
  {
   "cell_type": "code",
   "execution_count": null,
   "metadata": {},
   "outputs": [
    {
     "data": {
      "text/html": [
       "<div>\n",
       "<style scoped>\n",
       "    .dataframe tbody tr th:only-of-type {\n",
       "        vertical-align: middle;\n",
       "    }\n",
       "\n",
       "    .dataframe tbody tr th {\n",
       "        vertical-align: top;\n",
       "    }\n",
       "\n",
       "    .dataframe thead th {\n",
       "        text-align: right;\n",
       "    }\n",
       "</style>\n",
       "<table border=\"1\" class=\"dataframe\">\n",
       "  <thead>\n",
       "    <tr style=\"text-align: right;\">\n",
       "      <th></th>\n",
       "      <th>postMedia</th>\n",
       "      <th>postText</th>\n",
       "      <th>postTimestamp</th>\n",
       "      <th>targetCaptions</th>\n",
       "      <th>targetDescription</th>\n",
       "      <th>targetKeywords</th>\n",
       "      <th>targetParagraphs</th>\n",
       "      <th>targetTitle</th>\n",
       "      <th>truthClass</th>\n",
       "    </tr>\n",
       "    <tr>\n",
       "      <th>id</th>\n",
       "      <th></th>\n",
       "      <th></th>\n",
       "      <th></th>\n",
       "      <th></th>\n",
       "      <th></th>\n",
       "      <th></th>\n",
       "      <th></th>\n",
       "      <th></th>\n",
       "      <th></th>\n",
       "    </tr>\n",
       "  </thead>\n",
       "  <tbody>\n",
       "    <tr>\n",
       "      <th>608310377143799808</th>\n",
       "      <td>[]</td>\n",
       "      <td>[Apple's iOS 9 'App thinning' feature will giv...</td>\n",
       "      <td>Tue Jun 09 16:31:10 +0000 2015</td>\n",
       "      <td>['App thinning' will be supported on Apple's i...</td>\n",
       "      <td>'App thinning' will be supported on Apple's iO...</td>\n",
       "      <td>Apple,gives,gigabytes,iOS,9,app,thinning,featu...</td>\n",
       "      <td>[Paying for a 64GB phone only to discover that...</td>\n",
       "      <td>Apple gives back gigabytes: iOS 9 'app thinnin...</td>\n",
       "      <td>no-clickbait</td>\n",
       "    </tr>\n",
       "    <tr>\n",
       "      <th>609297109095972864</th>\n",
       "      <td>[media/609297109095972864.jpg]</td>\n",
       "      <td>[RT @kenbrown12: Emerging market investors are...</td>\n",
       "      <td>Fri Jun 12 09:52:05 +0000 2015</td>\n",
       "      <td>[Stocks Fall as Investors Watch Central Banks,...</td>\n",
       "      <td>Global investors have yanked $9.3 billion from...</td>\n",
       "      <td>emerging market,emerging markets,em flows,em i...</td>\n",
       "      <td>[Emerging markets are out of favor., Global in...</td>\n",
       "      <td>Emerging Markets Suffer Largest Outflow in Sev...</td>\n",
       "      <td>no-clickbait</td>\n",
       "    </tr>\n",
       "  </tbody>\n",
       "</table>\n",
       "</div>"
      ],
      "text/plain": [
       "                                         postMedia  \\\n",
       "id                                                   \n",
       "608310377143799808                              []   \n",
       "609297109095972864  [media/609297109095972864.jpg]   \n",
       "\n",
       "                                                             postText  \\\n",
       "id                                                                      \n",
       "608310377143799808  [Apple's iOS 9 'App thinning' feature will giv...   \n",
       "609297109095972864  [RT @kenbrown12: Emerging market investors are...   \n",
       "\n",
       "                                     postTimestamp  \\\n",
       "id                                                   \n",
       "608310377143799808  Tue Jun 09 16:31:10 +0000 2015   \n",
       "609297109095972864  Fri Jun 12 09:52:05 +0000 2015   \n",
       "\n",
       "                                                       targetCaptions  \\\n",
       "id                                                                      \n",
       "608310377143799808  ['App thinning' will be supported on Apple's i...   \n",
       "609297109095972864  [Stocks Fall as Investors Watch Central Banks,...   \n",
       "\n",
       "                                                    targetDescription  \\\n",
       "id                                                                      \n",
       "608310377143799808  'App thinning' will be supported on Apple's iO...   \n",
       "609297109095972864  Global investors have yanked $9.3 billion from...   \n",
       "\n",
       "                                                       targetKeywords  \\\n",
       "id                                                                      \n",
       "608310377143799808  Apple,gives,gigabytes,iOS,9,app,thinning,featu...   \n",
       "609297109095972864  emerging market,emerging markets,em flows,em i...   \n",
       "\n",
       "                                                     targetParagraphs  \\\n",
       "id                                                                      \n",
       "608310377143799808  [Paying for a 64GB phone only to discover that...   \n",
       "609297109095972864  [Emerging markets are out of favor., Global in...   \n",
       "\n",
       "                                                          targetTitle  \\\n",
       "id                                                                      \n",
       "608310377143799808  Apple gives back gigabytes: iOS 9 'app thinnin...   \n",
       "609297109095972864  Emerging Markets Suffer Largest Outflow in Sev...   \n",
       "\n",
       "                      truthClass  \n",
       "id                                \n",
       "608310377143799808  no-clickbait  \n",
       "609297109095972864  no-clickbait  "
      ]
     },
     "execution_count": 5,
     "metadata": {},
     "output_type": "execute_result"
    }
   ],
   "source": [
    "df.head(2)"
   ]
  },
  {
   "cell_type": "markdown",
   "metadata": {},
   "source": [
    "## Extract features"
   ]
  },
  {
   "cell_type": "code",
   "execution_count": null,
   "metadata": {},
   "outputs": [
    {
     "name": "stderr",
     "output_type": "stream",
     "text": [
      "C:\\Users\\CodeSupply\\Anaconda3\\lib\\site-packages\\PyDictionary\\utils.py:5: UserWarning: No parser was explicitly specified, so I'm using the best available HTML parser for this system (\"lxml\"). This usually isn't a problem, but if you run this code on another system, or in a different virtual environment, it may use a different parser and behave differently.\n",
      "\n",
      "The code that caused this warning is on line 5 of the file C:\\Users\\CodeSupply\\Anaconda3\\lib\\site-packages\\PyDictionary\\utils.py. To get rid of this warning, pass the additional argument 'features=\"lxml\"' to the BeautifulSoup constructor.\n",
      "\n",
      "  return BeautifulSoup(requests.get(url).text)\n"
     ]
    }
   ],
   "source": [
    "fe = feature_extraction.FeatureExtractor(df[:2])\n",
    "labels, features = fe.extract_features()"
   ]
  },
  {
   "cell_type": "code",
   "execution_count": null,
   "metadata": {},
   "outputs": [],
   "source": [
    "features"
   ]
  },
  {
   "cell_type": "code",
   "execution_count": null,
   "metadata": {},
   "outputs": [],
   "source": [
    "labels"
   ]
  }
 ],
 "metadata": {
  "kernelspec": {
   "display_name": "Python 3",
   "language": "python",
   "name": "python3"
  },
  "language_info": {
   "codemirror_mode": {
    "name": "ipython",
    "version": 3
   },
   "file_extension": ".py",
   "mimetype": "text/x-python",
   "name": "python",
   "nbconvert_exporter": "python",
   "pygments_lexer": "ipython3",
   "version": "3.7.1"
  }
 },
 "nbformat": 4,
 "nbformat_minor": 2
}
