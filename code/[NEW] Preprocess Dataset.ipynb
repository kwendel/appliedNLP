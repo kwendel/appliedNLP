{
 "cells": [
  {
   "cell_type": "markdown",
   "metadata": {},
   "source": [
    "# Preprocess Dataset"
   ]
  },
  {
   "cell_type": "markdown",
   "metadata": {},
   "source": [
    "Perform OCR and light preprocessing beforehand."
   ]
  },
  {
   "cell_type": "code",
   "execution_count": 57,
   "metadata": {},
   "outputs": [],
   "source": [
    "import pandas as pd\n",
    "import numpy as np\n",
    "import feature_extraction\n",
    "import time\n",
    "from os import path, mkdir\n",
    "\n",
    "from nltk import download, word_tokenize, pos_tag, WordNetLemmatizer, ngrams\n",
    "from nltk.data import find\n",
    "from nltk.corpus import wordnet as wn, stopwords as sw"
   ]
  },
  {
   "cell_type": "code",
   "execution_count": 2,
   "metadata": {},
   "outputs": [],
   "source": [
    "data_path = \"../data\"\n",
    "feat_path = \"../features\"\n",
    "\n",
    "tesseract_path = r\"%localappdata%\\Tesseract-OCR\\tesseract\""
   ]
  },
  {
   "cell_type": "code",
   "execution_count": 3,
   "metadata": {},
   "outputs": [],
   "source": [
    "dataset = \"clickbait17-train-170331\""
   ]
  },
  {
   "cell_type": "code",
   "execution_count": 45,
   "metadata": {},
   "outputs": [],
   "source": [
    "# Load instances\n",
    "df = pd.read_json(path.join(data_path, dataset, \"instances.jsonl\"), lines=True, encoding='utf8')\n",
    "df.set_index(\"id\", inplace=True)"
   ]
  },
  {
   "cell_type": "code",
   "execution_count": 115,
   "metadata": {},
   "outputs": [],
   "source": [
    "df['postText'] = df['postText'].apply(lambda x: x[0])"
   ]
  },
  {
   "cell_type": "code",
   "execution_count": 119,
   "metadata": {},
   "outputs": [
    {
     "data": {
      "text/html": [
       "<div>\n",
       "<style scoped>\n",
       "    .dataframe tbody tr th:only-of-type {\n",
       "        vertical-align: middle;\n",
       "    }\n",
       "\n",
       "    .dataframe tbody tr th {\n",
       "        vertical-align: top;\n",
       "    }\n",
       "\n",
       "    .dataframe thead th {\n",
       "        text-align: right;\n",
       "    }\n",
       "</style>\n",
       "<table border=\"1\" class=\"dataframe\">\n",
       "  <thead>\n",
       "    <tr style=\"text-align: right;\">\n",
       "      <th></th>\n",
       "      <th>postMedia</th>\n",
       "      <th>postText</th>\n",
       "      <th>postTimestamp</th>\n",
       "      <th>targetCaptions</th>\n",
       "      <th>targetDescription</th>\n",
       "      <th>targetKeywords</th>\n",
       "      <th>targetParagraphs</th>\n",
       "      <th>targetTitle</th>\n",
       "    </tr>\n",
       "    <tr>\n",
       "      <th>id</th>\n",
       "      <th></th>\n",
       "      <th></th>\n",
       "      <th></th>\n",
       "      <th></th>\n",
       "      <th></th>\n",
       "      <th></th>\n",
       "      <th></th>\n",
       "      <th></th>\n",
       "    </tr>\n",
       "  </thead>\n",
       "  <tbody>\n",
       "    <tr>\n",
       "      <th>608310377143799808</th>\n",
       "      <td></td>\n",
       "      <td>Apple's iOS 9 'App thinning' feature will give...</td>\n",
       "      <td>Tue Jun 09 16:31:10 +0000 2015</td>\n",
       "      <td>['App thinning' will be supported on Apple's i...</td>\n",
       "      <td>'App thinning' will be supported on Apple's iO...</td>\n",
       "      <td>Apple,gives,gigabytes,iOS,9,app,thinning,featu...</td>\n",
       "      <td>[Paying for a 64GB phone only to discover that...</td>\n",
       "      <td>Apple gives back gigabytes: iOS 9 'app thinnin...</td>\n",
       "    </tr>\n",
       "    <tr>\n",
       "      <th>609297109095972864</th>\n",
       "      <td>Rushing Out\\n\\nEmerging markets have suffered ...</td>\n",
       "      <td>RT @kenbrown12: Emerging market investors are ...</td>\n",
       "      <td>Fri Jun 12 09:52:05 +0000 2015</td>\n",
       "      <td>[Stocks Fall as Investors Watch Central Banks,...</td>\n",
       "      <td>Global investors have yanked $9.3 billion from...</td>\n",
       "      <td>emerging market,emerging markets,em flows,em i...</td>\n",
       "      <td>[Emerging markets are out of favor., Global in...</td>\n",
       "      <td>Emerging Markets Suffer Largest Outflow in Sev...</td>\n",
       "    </tr>\n",
       "  </tbody>\n",
       "</table>\n",
       "</div>"
      ],
      "text/plain": [
       "                                                            postMedia  \\\n",
       "id                                                                      \n",
       "608310377143799808                                                      \n",
       "609297109095972864  Rushing Out\\n\\nEmerging markets have suffered ...   \n",
       "\n",
       "                                                             postText  \\\n",
       "id                                                                      \n",
       "608310377143799808  Apple's iOS 9 'App thinning' feature will give...   \n",
       "609297109095972864  RT @kenbrown12: Emerging market investors are ...   \n",
       "\n",
       "                                     postTimestamp  \\\n",
       "id                                                   \n",
       "608310377143799808  Tue Jun 09 16:31:10 +0000 2015   \n",
       "609297109095972864  Fri Jun 12 09:52:05 +0000 2015   \n",
       "\n",
       "                                                       targetCaptions  \\\n",
       "id                                                                      \n",
       "608310377143799808  ['App thinning' will be supported on Apple's i...   \n",
       "609297109095972864  [Stocks Fall as Investors Watch Central Banks,...   \n",
       "\n",
       "                                                    targetDescription  \\\n",
       "id                                                                      \n",
       "608310377143799808  'App thinning' will be supported on Apple's iO...   \n",
       "609297109095972864  Global investors have yanked $9.3 billion from...   \n",
       "\n",
       "                                                       targetKeywords  \\\n",
       "id                                                                      \n",
       "608310377143799808  Apple,gives,gigabytes,iOS,9,app,thinning,featu...   \n",
       "609297109095972864  emerging market,emerging markets,em flows,em i...   \n",
       "\n",
       "                                                     targetParagraphs  \\\n",
       "id                                                                      \n",
       "608310377143799808  [Paying for a 64GB phone only to discover that...   \n",
       "609297109095972864  [Emerging markets are out of favor., Global in...   \n",
       "\n",
       "                                                          targetTitle  \n",
       "id                                                                     \n",
       "608310377143799808  Apple gives back gigabytes: iOS 9 'app thinnin...  \n",
       "609297109095972864  Emerging Markets Suffer Largest Outflow in Sev...  "
      ]
     },
     "execution_count": 119,
     "metadata": {},
     "output_type": "execute_result"
    }
   ],
   "source": [
    "df.head(2)"
   ]
  },
  {
   "cell_type": "markdown",
   "metadata": {},
   "source": [
    "## OCR images"
   ]
  },
  {
   "cell_type": "code",
   "execution_count": 52,
   "metadata": {},
   "outputs": [],
   "source": [
    "ih = feature_extraction.ImageHelper.ImageHelper(path.join(data_path, dataset), tesseract_path)\n",
    "\n",
    "def get_texts(item):\n",
    "    if item:\n",
    "        return ih.get_text(item)\n",
    "    return item"
   ]
  },
  {
   "cell_type": "code",
   "execution_count": 53,
   "metadata": {},
   "outputs": [],
   "source": [
    "df['postMedia'] = df['postMedia'].apply(get_texts)"
   ]
  },
  {
   "cell_type": "code",
   "execution_count": 103,
   "metadata": {},
   "outputs": [],
   "source": [
    "df['postMedia'] = df['postMedia'].apply(lambda x: x if x else \"\")"
   ]
  },
  {
   "cell_type": "markdown",
   "metadata": {},
   "source": [
    "# Preprocess and tokenize"
   ]
  },
  {
   "cell_type": "code",
   "execution_count": 117,
   "metadata": {},
   "outputs": [],
   "source": [
    "def preprocess(sentence):\n",
    "    \n",
    "    if not sentence:\n",
    "        return sentence\n",
    "    \n",
    "    if isinstance(sentence, list):\n",
    "        return [preprocess(x) for x in sentence]\n",
    "    \n",
    "    # Convert unrecognized unicode apostrophes back to regular ones\n",
    "    sentence = sentence.replace(\"‘\", \"'\").replace(\"’\", \"'\").replace(\"“\", '\"').replace(\"”\", '\"')\n",
    "\n",
    "    # Remove @ and # symbols (which are treated as single words by the NLTK tokenizer)\n",
    "    sentence = sentence.replace(\"@\", \"\").replace(\"#\", \"\")\n",
    "    \n",
    "    return sentence"
   ]
  },
  {
   "cell_type": "code",
   "execution_count": 123,
   "metadata": {},
   "outputs": [],
   "source": [
    "df = df.applymap(preprocess)"
   ]
  },
  {
   "cell_type": "code",
   "execution_count": 125,
   "metadata": {},
   "outputs": [
    {
     "data": {
      "text/html": [
       "<div>\n",
       "<style scoped>\n",
       "    .dataframe tbody tr th:only-of-type {\n",
       "        vertical-align: middle;\n",
       "    }\n",
       "\n",
       "    .dataframe tbody tr th {\n",
       "        vertical-align: top;\n",
       "    }\n",
       "\n",
       "    .dataframe thead th {\n",
       "        text-align: right;\n",
       "    }\n",
       "</style>\n",
       "<table border=\"1\" class=\"dataframe\">\n",
       "  <thead>\n",
       "    <tr style=\"text-align: right;\">\n",
       "      <th></th>\n",
       "      <th>postMedia</th>\n",
       "      <th>postText</th>\n",
       "      <th>postTimestamp</th>\n",
       "      <th>targetCaptions</th>\n",
       "      <th>targetDescription</th>\n",
       "      <th>targetKeywords</th>\n",
       "      <th>targetParagraphs</th>\n",
       "      <th>targetTitle</th>\n",
       "    </tr>\n",
       "    <tr>\n",
       "      <th>id</th>\n",
       "      <th></th>\n",
       "      <th></th>\n",
       "      <th></th>\n",
       "      <th></th>\n",
       "      <th></th>\n",
       "      <th></th>\n",
       "      <th></th>\n",
       "      <th></th>\n",
       "    </tr>\n",
       "  </thead>\n",
       "  <tbody>\n",
       "    <tr>\n",
       "      <th>608310377143799808</th>\n",
       "      <td></td>\n",
       "      <td>Apple's iOS 9 'App thinning' feature will give...</td>\n",
       "      <td>Tue Jun 09 16:31:10 +0000 2015</td>\n",
       "      <td>['App thinning' will be supported on Apple's i...</td>\n",
       "      <td>'App thinning' will be supported on Apple's iO...</td>\n",
       "      <td>Apple,gives,gigabytes,iOS,9,app,thinning,featu...</td>\n",
       "      <td>[Paying for a 64GB phone only to discover that...</td>\n",
       "      <td>Apple gives back gigabytes: iOS 9 'app thinnin...</td>\n",
       "    </tr>\n",
       "    <tr>\n",
       "      <th>609297109095972864</th>\n",
       "      <td>Rushing Out\\n\\nEmerging markets have suffered ...</td>\n",
       "      <td>RT kenbrown12: Emerging market investors are d...</td>\n",
       "      <td>Fri Jun 12 09:52:05 +0000 2015</td>\n",
       "      <td>[Stocks Fall as Investors Watch Central Banks,...</td>\n",
       "      <td>Global investors have yanked $9.3 billion from...</td>\n",
       "      <td>emerging market,emerging markets,em flows,em i...</td>\n",
       "      <td>[Emerging markets are out of favor., Global in...</td>\n",
       "      <td>Emerging Markets Suffer Largest Outflow in Sev...</td>\n",
       "    </tr>\n",
       "  </tbody>\n",
       "</table>\n",
       "</div>"
      ],
      "text/plain": [
       "                                                            postMedia  \\\n",
       "id                                                                      \n",
       "608310377143799808                                                      \n",
       "609297109095972864  Rushing Out\\n\\nEmerging markets have suffered ...   \n",
       "\n",
       "                                                             postText  \\\n",
       "id                                                                      \n",
       "608310377143799808  Apple's iOS 9 'App thinning' feature will give...   \n",
       "609297109095972864  RT kenbrown12: Emerging market investors are d...   \n",
       "\n",
       "                                     postTimestamp  \\\n",
       "id                                                   \n",
       "608310377143799808  Tue Jun 09 16:31:10 +0000 2015   \n",
       "609297109095972864  Fri Jun 12 09:52:05 +0000 2015   \n",
       "\n",
       "                                                       targetCaptions  \\\n",
       "id                                                                      \n",
       "608310377143799808  ['App thinning' will be supported on Apple's i...   \n",
       "609297109095972864  [Stocks Fall as Investors Watch Central Banks,...   \n",
       "\n",
       "                                                    targetDescription  \\\n",
       "id                                                                      \n",
       "608310377143799808  'App thinning' will be supported on Apple's iO...   \n",
       "609297109095972864  Global investors have yanked $9.3 billion from...   \n",
       "\n",
       "                                                       targetKeywords  \\\n",
       "id                                                                      \n",
       "608310377143799808  Apple,gives,gigabytes,iOS,9,app,thinning,featu...   \n",
       "609297109095972864  emerging market,emerging markets,em flows,em i...   \n",
       "\n",
       "                                                     targetParagraphs  \\\n",
       "id                                                                      \n",
       "608310377143799808  [Paying for a 64GB phone only to discover that...   \n",
       "609297109095972864  [Emerging markets are out of favor., Global in...   \n",
       "\n",
       "                                                          targetTitle  \n",
       "id                                                                     \n",
       "608310377143799808  Apple gives back gigabytes: iOS 9 'app thinnin...  \n",
       "609297109095972864  Emerging Markets Suffer Largest Outflow in Sev...  "
      ]
     },
     "execution_count": 125,
     "metadata": {},
     "output_type": "execute_result"
    }
   ],
   "source": [
    "df[:2]"
   ]
  },
  {
   "cell_type": "markdown",
   "metadata": {},
   "source": [
    "## Write to file"
   ]
  },
  {
   "cell_type": "code",
   "execution_count": 127,
   "metadata": {},
   "outputs": [],
   "source": [
    "# Write features to file\n",
    "df.to_pickle(path.join(data_path, dataset, 'instances_processed.pkl'))"
   ]
  }
 ],
 "metadata": {
  "kernelspec": {
   "display_name": "Python 3",
   "language": "python",
   "name": "python3"
  },
  "language_info": {
   "codemirror_mode": {
    "name": "ipython",
    "version": 3
   },
   "file_extension": ".py",
   "mimetype": "text/x-python",
   "name": "python",
   "nbconvert_exporter": "python",
   "pygments_lexer": "ipython3",
   "version": "3.7.2"
  }
 },
 "nbformat": 4,
 "nbformat_minor": 2
}
