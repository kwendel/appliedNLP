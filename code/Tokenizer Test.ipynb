{
 "cells": [
  {
   "cell_type": "code",
   "execution_count": null,
   "metadata": {},
   "outputs": [],
   "source": [
    "%load_ext autoreload\n",
    "%autoreload 2"
   ]
  },
  {
   "cell_type": "markdown",
   "metadata": {},
   "source": [
    "# Tokenizer Test\n",
    "Test notebook to check if the word tokenizer works as expected on varying inputs."
   ]
  },
  {
   "cell_type": "code",
   "execution_count": null,
   "metadata": {},
   "outputs": [],
   "source": [
    "import pandas as pd\n",
    "import feature_extraction\n",
    "from os import path\n",
    "from pprint import pprint\n",
    "\n",
    "import nltk\n",
    "\n",
    "pd.set_option('display.max_colwidth', 1000)"
   ]
  },
  {
   "cell_type": "code",
   "execution_count": null,
   "metadata": {},
   "outputs": [],
   "source": [
    "wt = feature_extraction.WordTools.WordTools()"
   ]
  },
  {
   "cell_type": "markdown",
   "metadata": {},
   "source": [
    "## Load data"
   ]
  },
  {
   "cell_type": "code",
   "execution_count": null,
   "metadata": {},
   "outputs": [],
   "source": [
    "data_path = \"../data\"\n",
    "dataset = \"clickbait17-train-170331\""
   ]
  },
  {
   "cell_type": "code",
   "execution_count": null,
   "metadata": {},
   "outputs": [],
   "source": [
    "df = pd.read_json(path.join(data_path, dataset, \"instances.jsonl\"), lines=True, encoding='utf8')\n",
    "\n",
    "# Flatten post title arrays\n",
    "df['postText'] = df['postText'].apply(lambda x: x[0])"
   ]
  },
  {
   "cell_type": "code",
   "execution_count": null,
   "metadata": {},
   "outputs": [],
   "source": [
    "def debug(name, feat):\n",
    "    print(name)\n",
    "    print(feat)\n",
    "    print()\n",
    "\n",
    "def test(row):\n",
    "    feat = wt.process(row)\n",
    "    \n",
    "    print(row)\n",
    "    print()\n",
    "    \n",
    "    debug(\"Tokens (word split):\", feat[0])\n",
    "    debug(\"Part-of-Speech:\", feat[1])\n",
    "    debug(\"Part-of-Speech (no punctuation):\", feat[2])\n",
    "    debug(\"PoS for WordNet:\", feat[3])\n",
    "    debug(\"Lemmas:\", feat[4])\n",
    "    debug(\"Formal Words:\", feat[5])\n",
    "    \n",
    "    print('===\\n')\n",
    "\n",
    "for row in df['postText'].sample(10):\n",
    "    test(row)"
   ]
  }
 ],
 "metadata": {
  "kernelspec": {
   "display_name": "Python 3",
   "language": "python",
   "name": "python3"
  },
  "language_info": {
   "codemirror_mode": {
    "name": "ipython",
    "version": 3
   },
   "file_extension": ".py",
   "mimetype": "text/x-python",
   "name": "python",
   "nbconvert_exporter": "python",
   "pygments_lexer": "ipython3",
   "version": "3.7.1"
  }
 },
 "nbformat": 4,
 "nbformat_minor": 2
}
